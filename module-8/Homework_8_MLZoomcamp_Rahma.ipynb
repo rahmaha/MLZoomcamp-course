{
  "nbformat": 4,
  "nbformat_minor": 0,
  "metadata": {
    "colab": {
      "provenance": [],
      "gpuType": "T4"
    },
    "kernelspec": {
      "name": "python3",
      "display_name": "Python 3"
    },
    "language_info": {
      "name": "python"
    },
    "accelerator": "GPU"
  },
  "cells": [
    {
      "cell_type": "markdown",
      "source": [
        "# Homework 8\n",
        "\n",
        "by Rahma Hayuning Astuti"
      ],
      "metadata": {
        "id": "qnsy6pEkuGDC"
      }
    },
    {
      "cell_type": "code",
      "execution_count": 1,
      "metadata": {
        "id": "1Gld5iBVt9Wn"
      },
      "outputs": [],
      "source": [
        "import tensorflow as tf\n",
        "from tensorflow import keras\n",
        "import numpy as np\n",
        "import matplotlib.pyplot as plt\n",
        "\n",
        "%matplotlib inline\n",
        "\n",
        "from tensorflow.keras.preprocessing.image import ImageDataGenerator"
      ]
    },
    {
      "cell_type": "code",
      "source": [
        "# download data\n",
        "\n",
        "data = !wget https://github.com/SVizor42/ML_Zoomcamp/releases/download/bee-wasp-data/data.zip\n",
        "!unzip data.zip"
      ],
      "metadata": {
        "colab": {
          "base_uri": "https://localhost:8080/"
        },
        "id": "lBEfUZBsuoBh",
        "outputId": "ce2fe3e3-8cab-4f6e-e577-4391d3ec121e"
      },
      "execution_count": 2,
      "outputs": [
        {
          "output_type": "stream",
          "name": "stdout",
          "text": [
            "Archive:  data.zip\n",
            "replace data/test/bee/10007154554_026417cfd0_n.jpg? [y]es, [n]o, [A]ll, [N]one, [r]ename: "
          ]
        }
      ]
    },
    {
      "cell_type": "code",
      "source": [
        "#data preparation\n",
        "train_data = './data/train'\n",
        "test_data = './data/test'\n"
      ],
      "metadata": {
        "id": "2r7rsG6bvSHx"
      },
      "execution_count": 3,
      "outputs": []
    },
    {
      "cell_type": "code",
      "source": [
        "#Model\n",
        "\n",
        "model = tf.keras.Sequential([\n",
        "    tf.keras.layers.Conv2D(32, (3, 3),\n",
        "                           activation='relu',\n",
        "                           input_shape=(150, 150, 3)),\n",
        "    tf.keras.layers.MaxPooling2D(pool_size=(2,2)),\n",
        "    tf.keras.layers.Flatten(),\n",
        "    tf.keras.layers.Dense(64, activation='relu'),\n",
        "    tf.keras.layers.Dense(1, activation='sigmoid')\n",
        "])\n"
      ],
      "metadata": {
        "id": "U4E3JDZFvq1v"
      },
      "execution_count": 4,
      "outputs": []
    },
    {
      "cell_type": "code",
      "source": [
        "#model compile\n",
        "opt = keras.optimizers.SGD(learning_rate=0.002, momentum=0.8)\n",
        "model.compile(optimizer=opt,\n",
        "              loss='binary_crossentropy',\n",
        "              metrics=['accuracy'])"
      ],
      "metadata": {
        "id": "5ODZVOQ_x2nt"
      },
      "execution_count": 5,
      "outputs": []
    },
    {
      "cell_type": "markdown",
      "source": [
        "## Question 1\n",
        "\n",
        "Since we have a binary classification problem, what is the best loss function for us?\n",
        "\n",
        "    mean squared error\n",
        "    binary crossentropy\n",
        "    categorical crossentropy\n",
        "    cosine similarity\n",
        "Answer: binary_crossentropy"
      ],
      "metadata": {
        "id": "7e_tUQj5yo3l"
      }
    },
    {
      "cell_type": "markdown",
      "source": [
        "## Question 2\n",
        "\n",
        "What's the number of parameters in the convolutional layer of our model? You can use the summary method for that.\n",
        "\n",
        "    1\n",
        "    65\n",
        "    896\n",
        "    11214912\n",
        "\n",
        "Answer: 896"
      ],
      "metadata": {
        "id": "Am59STABy4pV"
      }
    },
    {
      "cell_type": "code",
      "source": [
        "model.summary()"
      ],
      "metadata": {
        "colab": {
          "base_uri": "https://localhost:8080/"
        },
        "id": "8IvsCpZMy1hO",
        "outputId": "c3dd25d8-8caf-414b-91af-7e1274b84561"
      },
      "execution_count": 6,
      "outputs": [
        {
          "output_type": "stream",
          "name": "stdout",
          "text": [
            "Model: \"sequential\"\n",
            "_________________________________________________________________\n",
            " Layer (type)                Output Shape              Param #   \n",
            "=================================================================\n",
            " conv2d (Conv2D)             (None, 148, 148, 32)      896       \n",
            "                                                                 \n",
            " max_pooling2d (MaxPooling2  (None, 74, 74, 32)        0         \n",
            " D)                                                              \n",
            "                                                                 \n",
            " flatten (Flatten)           (None, 175232)            0         \n",
            "                                                                 \n",
            " dense (Dense)               (None, 64)                11214912  \n",
            "                                                                 \n",
            " dense_1 (Dense)             (None, 1)                 65        \n",
            "                                                                 \n",
            "=================================================================\n",
            "Total params: 11215873 (42.79 MB)\n",
            "Trainable params: 11215873 (42.79 MB)\n",
            "Non-trainable params: 0 (0.00 Byte)\n",
            "_________________________________________________________________\n"
          ]
        }
      ]
    },
    {
      "cell_type": "markdown",
      "source": [
        "## Generators and training"
      ],
      "metadata": {
        "id": "eu8vVosozIwz"
      }
    },
    {
      "cell_type": "code",
      "source": [
        "train_datagen = ImageDataGenerator(rescale=1./255)\n",
        "\n",
        "train_generator = train_datagen.flow_from_directory(\n",
        "    train_data,\n",
        "    class_mode='binary',\n",
        "    target_size=(150, 150),\n",
        "    batch_size=20,\n",
        "    shuffle = True\n",
        ")"
      ],
      "metadata": {
        "colab": {
          "base_uri": "https://localhost:8080/"
        },
        "id": "WzPwb61lzOqF",
        "outputId": "b127e8cc-1860-457f-be59-a0fcfb1b686f"
      },
      "execution_count": 7,
      "outputs": [
        {
          "output_type": "stream",
          "name": "stdout",
          "text": [
            "Found 3677 images belonging to 2 classes.\n"
          ]
        }
      ]
    },
    {
      "cell_type": "code",
      "source": [
        "test_datagen = ImageDataGenerator(rescale=1./255)\n",
        "\n",
        "test_generator = test_datagen.flow_from_directory(\n",
        "    test_data,\n",
        "    class_mode='binary',\n",
        "    target_size=(150, 150),\n",
        "    batch_size=20,\n",
        "    shuffle = True\n",
        ")"
      ],
      "metadata": {
        "colab": {
          "base_uri": "https://localhost:8080/"
        },
        "id": "XM55D71u0Tqk",
        "outputId": "cd7f3765-4b55-4532-ddd6-71cb8cb6fa67"
      },
      "execution_count": 8,
      "outputs": [
        {
          "output_type": "stream",
          "name": "stdout",
          "text": [
            "Found 918 images belonging to 2 classes.\n"
          ]
        }
      ]
    },
    {
      "cell_type": "code",
      "source": [
        "#training\n",
        "history = model.fit(\n",
        "    train_generator,\n",
        "    epochs=10,\n",
        "    validation_data=test_generator\n",
        ")"
      ],
      "metadata": {
        "colab": {
          "base_uri": "https://localhost:8080/"
        },
        "id": "_AN7jRrY0pjk",
        "outputId": "ac5d4ac8-461f-4f27-c116-60f9233da6d3"
      },
      "execution_count": 9,
      "outputs": [
        {
          "output_type": "stream",
          "name": "stdout",
          "text": [
            "Epoch 1/10\n",
            "184/184 [==============================] - 13s 50ms/step - loss: 0.6687 - accuracy: 0.5809 - val_loss: 0.6302 - val_accuracy: 0.6383\n",
            "Epoch 2/10\n",
            "184/184 [==============================] - 10s 54ms/step - loss: 0.5974 - accuracy: 0.6783 - val_loss: 0.5804 - val_accuracy: 0.6808\n",
            "Epoch 3/10\n",
            "184/184 [==============================] - 8s 41ms/step - loss: 0.5472 - accuracy: 0.7264 - val_loss: 0.5550 - val_accuracy: 0.7092\n",
            "Epoch 4/10\n",
            "184/184 [==============================] - 9s 49ms/step - loss: 0.5281 - accuracy: 0.7479 - val_loss: 0.5512 - val_accuracy: 0.7255\n",
            "Epoch 5/10\n",
            "184/184 [==============================] - 8s 43ms/step - loss: 0.4997 - accuracy: 0.7688 - val_loss: 0.5180 - val_accuracy: 0.7603\n",
            "Epoch 6/10\n",
            "184/184 [==============================] - 7s 40ms/step - loss: 0.4766 - accuracy: 0.7803 - val_loss: 0.5239 - val_accuracy: 0.7527\n",
            "Epoch 7/10\n",
            "184/184 [==============================] - 9s 49ms/step - loss: 0.4567 - accuracy: 0.7963 - val_loss: 0.4986 - val_accuracy: 0.7712\n",
            "Epoch 8/10\n",
            "184/184 [==============================] - 14s 78ms/step - loss: 0.4215 - accuracy: 0.8191 - val_loss: 0.5068 - val_accuracy: 0.7516\n",
            "Epoch 9/10\n",
            "184/184 [==============================] - 7s 40ms/step - loss: 0.3966 - accuracy: 0.8319 - val_loss: 0.4855 - val_accuracy: 0.7702\n",
            "Epoch 10/10\n",
            "184/184 [==============================] - 7s 40ms/step - loss: 0.3696 - accuracy: 0.8501 - val_loss: 0.5009 - val_accuracy: 0.7549\n"
          ]
        }
      ]
    },
    {
      "cell_type": "code",
      "source": [
        "#median of training accuracy\n",
        "acc = history.history['accuracy']\n",
        "median = np.median(acc)\n",
        "print(median)"
      ],
      "metadata": {
        "colab": {
          "base_uri": "https://localhost:8080/"
        },
        "id": "AK80-cMl2Wxk",
        "outputId": "35c19969-bbad-4794-faad-4cd6a6dc7e69"
      },
      "execution_count": 10,
      "outputs": [
        {
          "output_type": "stream",
          "name": "stdout",
          "text": [
            "0.7745444476604462\n"
          ]
        }
      ]
    },
    {
      "cell_type": "markdown",
      "source": [
        "## Question 3\n",
        "\n",
        "What is the median of training accuracy for all the epochs for this model?\n",
        "\n",
        "    0.20\n",
        "    0.40\n",
        "    0.60\n",
        "    0.80\n",
        "\n",
        "Because I get 0.77 for the answer so my answer for question 3 is 0.80"
      ],
      "metadata": {
        "id": "PqmVKANA2wrQ"
      }
    },
    {
      "cell_type": "markdown",
      "source": [
        "##  Question 4\n",
        "\n",
        "What is the standard deviation of training loss for all the epochs for this model?\n",
        "\n",
        "    0.031\n",
        "    0.061\n",
        "    0.091\n",
        "    0.131\n"
      ],
      "metadata": {
        "id": "ZIF-lRgS3AUo"
      }
    },
    {
      "cell_type": "code",
      "source": [
        "loss = history.history['loss']\n",
        "loss_std = np.std(loss)\n",
        "print(loss_std)"
      ],
      "metadata": {
        "colab": {
          "base_uri": "https://localhost:8080/"
        },
        "id": "-r-Ge8Ge2wAA",
        "outputId": "ec1dc90c-bb04-4da1-f40a-ba5c7850eb4f"
      },
      "execution_count": 11,
      "outputs": [
        {
          "output_type": "stream",
          "name": "stdout",
          "text": [
            "0.08780318629759695\n"
          ]
        }
      ]
    },
    {
      "cell_type": "markdown",
      "source": [
        "The answer is 0.091 (the closest one)"
      ],
      "metadata": {
        "id": "b7D74qkv3TcM"
      }
    },
    {
      "cell_type": "markdown",
      "source": [
        "## Data Augmentation"
      ],
      "metadata": {
        "id": "ZxHHb3KL3xVn"
      }
    },
    {
      "cell_type": "code",
      "source": [
        "train_datagen = ImageDataGenerator(\n",
        "    rescale=1./255,\n",
        "    rotation_range=50,\n",
        "    width_shift_range=0.1,\n",
        "    height_shift_range=0.1,\n",
        "    zoom_range=0.1,\n",
        "    horizontal_flip=True,\n",
        "    fill_mode='nearest')\n",
        "\n",
        "train_generator = train_datagen.flow_from_directory(\n",
        "    train_data,\n",
        "    class_mode='binary',\n",
        "    target_size=(150, 150),\n",
        "    batch_size=20,\n",
        "    shuffle = True\n",
        ")"
      ],
      "metadata": {
        "colab": {
          "base_uri": "https://localhost:8080/"
        },
        "id": "LIbLQ9cY4Cav",
        "outputId": "8819932b-465e-48fd-ded2-d824d39ad131"
      },
      "execution_count": 12,
      "outputs": [
        {
          "output_type": "stream",
          "name": "stdout",
          "text": [
            "Found 3677 images belonging to 2 classes.\n"
          ]
        }
      ]
    },
    {
      "cell_type": "code",
      "source": [
        "test_datagen = ImageDataGenerator(rescale=1./255)\n",
        "\n",
        "test_generator = test_datagen.flow_from_directory(\n",
        "    test_data,\n",
        "    class_mode='binary',\n",
        "    target_size=(150, 150),\n",
        "    batch_size=20,\n",
        "    shuffle = True\n",
        ")"
      ],
      "metadata": {
        "colab": {
          "base_uri": "https://localhost:8080/"
        },
        "id": "hlf31sif4aBs",
        "outputId": "3a781d6e-bfd2-4747-aa50-a3c9aee05328"
      },
      "execution_count": 13,
      "outputs": [
        {
          "output_type": "stream",
          "name": "stdout",
          "text": [
            "Found 918 images belonging to 2 classes.\n"
          ]
        }
      ]
    },
    {
      "cell_type": "code",
      "source": [
        "history = model.fit(\n",
        "    train_generator,\n",
        "    epochs=10,\n",
        "    validation_data=test_generator)"
      ],
      "metadata": {
        "colab": {
          "base_uri": "https://localhost:8080/"
        },
        "id": "iDzYcEhB4l-S",
        "outputId": "2eb56ea6-52ac-4743-e907-f3cc840e3174"
      },
      "execution_count": 14,
      "outputs": [
        {
          "output_type": "stream",
          "name": "stdout",
          "text": [
            "Epoch 1/10\n",
            "184/184 [==============================] - 30s 162ms/step - loss: 0.4965 - accuracy: 0.7615 - val_loss: 0.4813 - val_accuracy: 0.7647\n",
            "Epoch 2/10\n",
            "184/184 [==============================] - 30s 165ms/step - loss: 0.5018 - accuracy: 0.7615 - val_loss: 0.5104 - val_accuracy: 0.7636\n",
            "Epoch 3/10\n",
            "184/184 [==============================] - 28s 152ms/step - loss: 0.4880 - accuracy: 0.7726 - val_loss: 0.4893 - val_accuracy: 0.7625\n",
            "Epoch 4/10\n",
            "184/184 [==============================] - 29s 159ms/step - loss: 0.4797 - accuracy: 0.7759 - val_loss: 0.4878 - val_accuracy: 0.7636\n",
            "Epoch 5/10\n",
            "184/184 [==============================] - 30s 165ms/step - loss: 0.4739 - accuracy: 0.7805 - val_loss: 0.4895 - val_accuracy: 0.7800\n",
            "Epoch 6/10\n",
            "184/184 [==============================] - 28s 154ms/step - loss: 0.4720 - accuracy: 0.7756 - val_loss: 0.4574 - val_accuracy: 0.7876\n",
            "Epoch 7/10\n",
            "184/184 [==============================] - 28s 153ms/step - loss: 0.4681 - accuracy: 0.7890 - val_loss: 0.5069 - val_accuracy: 0.7702\n",
            "Epoch 8/10\n",
            "184/184 [==============================] - 29s 158ms/step - loss: 0.4777 - accuracy: 0.7718 - val_loss: 0.4716 - val_accuracy: 0.7593\n",
            "Epoch 9/10\n",
            "184/184 [==============================] - 28s 154ms/step - loss: 0.4647 - accuracy: 0.7911 - val_loss: 0.4951 - val_accuracy: 0.7691\n",
            "Epoch 10/10\n",
            "184/184 [==============================] - 29s 158ms/step - loss: 0.4563 - accuracy: 0.7884 - val_loss: 0.5079 - val_accuracy: 0.7680\n"
          ]
        }
      ]
    },
    {
      "cell_type": "markdown",
      "source": [
        "## Question 5\n",
        "\n",
        "What is the mean of test loss for all the epochs for the model trained with augmentations?\n",
        "\n",
        "    0.18\n",
        "    0.48\n",
        "    0.78\n",
        "    0.108"
      ],
      "metadata": {
        "id": "epywbNFz6HR9"
      }
    },
    {
      "cell_type": "code",
      "source": [
        "test_loss = history.history['val_loss']\n",
        "test_loss_avg = np.mean(test_loss)\n",
        "print(test_loss_avg)"
      ],
      "metadata": {
        "colab": {
          "base_uri": "https://localhost:8080/"
        },
        "id": "Emd4ORGD6DZF",
        "outputId": "8687df57-42a8-4ec8-ed84-1befbc0683a5"
      },
      "execution_count": 15,
      "outputs": [
        {
          "output_type": "stream",
          "name": "stdout",
          "text": [
            "0.48972375094890597\n"
          ]
        }
      ]
    },
    {
      "cell_type": "markdown",
      "source": [
        "Answer: 0.486"
      ],
      "metadata": {
        "id": "iB9JZRuO6iFn"
      }
    },
    {
      "cell_type": "markdown",
      "source": [
        "Question 6\n",
        "\n",
        "What's the average of test accuracy for the last 5 epochs (from 6 to 10) for the model trained with augmentations?\n",
        "\n",
        "    0.38\n",
        "    0.58\n",
        "    0.78\n",
        "    0.98\n"
      ],
      "metadata": {
        "id": "F2_tNSpu6lAd"
      }
    },
    {
      "cell_type": "code",
      "source": [
        "test_accuracy = history.history['val_accuracy'][5:]\n",
        "test_accuracy"
      ],
      "metadata": {
        "colab": {
          "base_uri": "https://localhost:8080/"
        },
        "id": "HtuBVs607fls",
        "outputId": "c4cbc2eb-80a3-45be-97ef-9af1cea90952"
      },
      "execution_count": 16,
      "outputs": [
        {
          "output_type": "execute_result",
          "data": {
            "text/plain": [
              "[0.7875816822052002,\n",
              " 0.7701525092124939,\n",
              " 0.7592592835426331,\n",
              " 0.7690631747245789,\n",
              " 0.7679738402366638]"
            ]
          },
          "metadata": {},
          "execution_count": 16
        }
      ]
    },
    {
      "cell_type": "code",
      "source": [
        "test_acc_avg = np.mean(test_accuracy)\n",
        "print(test_acc_avg)"
      ],
      "metadata": {
        "colab": {
          "base_uri": "https://localhost:8080/"
        },
        "id": "TESNoN4s6o_t",
        "outputId": "e7aa7e08-6666-4ac5-89f2-8bfcf4aa7067"
      },
      "execution_count": 17,
      "outputs": [
        {
          "output_type": "stream",
          "name": "stdout",
          "text": [
            "0.770806097984314\n"
          ]
        }
      ]
    },
    {
      "cell_type": "markdown",
      "source": [
        "Answer: 0.78"
      ],
      "metadata": {
        "id": "oSGgDWra7xlz"
      }
    }
  ]
}